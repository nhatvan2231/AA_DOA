{
 "cells": [
  {
   "cell_type": "code",
   "execution_count": 47,
   "id": "2e559a1d-8446-4ca7-84d8-efc7db330869",
   "metadata": {},
   "outputs": [],
   "source": [
    "import pandas as pd\n",
    "import numpy as np\n",
    "import matplotlib\n",
    "import matplotlib.pyplot as plt\n",
    "import os\n",
    "import tensorflow as tf\n",
    "import math\n",
    "import random\n",
    "from ast import literal_eval"
   ]
  },
  {
   "cell_type": "code",
   "execution_count": 54,
   "id": "77ab6b4b-7063-48ab-907e-4d8b3f2a065d",
   "metadata": {},
   "outputs": [],
   "source": [
    "class MyModel(tf.keras.Model):\n",
    "    def __init__(self, n_channels, he_initializer = True, floormod = True):\n",
    "        super().__init__()\n",
    "        self.floormod = floormod\n",
    "        self.initializer = tf.keras.initializers.HeNormal(1561)\n",
    "        if not he_initializer:\n",
    "            self.initializer = tf.keras.initializers.GlorotUniform(1561)\n",
    "        self.net = tf.keras.Sequential([\n",
    "            tf.keras.layers.Input(n_channels),\n",
    "            #tf.keras.layers.Dense(units=512, activation='relu', kernel_initializer = self.initializer),\n",
    "            #tf.keras.layers.Dense(units=256, activation='relu', kernel_initializer = self.initializer),\n",
    "            tf.keras.layers.Dense(units=128, activation='relu', kernel_initializer = self.initializer),\n",
    "            tf.keras.layers.Dense(units=64, activation='relu', kernel_initializer = self.initializer),\n",
    "            tf.keras.layers.Dense(units=32, activation='relu', kernel_initializer = self.initializer),\n",
    "            tf.keras.layers.Dense(units=16, activation='relu', kernel_initializer = self.initializer),\n",
    "            tf.keras.layers.Dense(units=8, activation='relu', kernel_initializer = self.initializer),\n",
    "            tf.keras.layers.Dense(units=1, activation = 'linear')\n",
    "        ])\n",
    "    \n",
    "    def predict(self, inputs,verbose=False):\n",
    "        output = self.net(inputs)\n",
    "        # Wrap around after 360\n",
    "        if self.floormod: \n",
    "            output = tf.math.floormod(output,360.0)\n",
    "        return output\n",
    "    def call(self, inputs):\n",
    "        output = self.net(inputs)\n",
    "        # Wrap around after 360\n",
    "        #if self.floormod: \n",
    "        #    output = tf.math.floormod(output,360.0)\n",
    "        return output"
   ]
  },
  {
   "cell_type": "code",
   "execution_count": null,
   "id": "e579c8fd-6f15-4ef6-9be9-1c49c854a64b",
   "metadata": {},
   "outputs": [],
   "source": [
    "def cossin_loss(y_actual, y_predicted):\n",
    "    # convert degree to radian\n",
    "    actual_rad = y_actual*np.pi/180\n",
    "    predicted_rad = y_predicted*np.pi/180\n",
    "\n",
    "    # the cosine and sine loss\n",
    "    cos_loss = tf.math.reduce_mean((1 - tf.math.cos(actual_rad - predicted_rad))**2)\n",
    "    sin_loss = tf.math.reduce_mean((tf.math.sin(actual_rad - predicted_rad))**2)\n",
    "    #cos_loss = 1 - tf.math.cos(tf.math.reduce_mean(tf.math.square(actual_rad - predicted_rad)))\n",
    "    #sin_loss = tf.math.sin(tf.math.reduce_mean(tf.math.square(actual_rad - predicted_rad)))\n",
    "    #sin_loss = tf.math.sin(actual_rad - predicted_rad)\n",
    "    \n",
    "    # loss \n",
    "    loss = (cos_loss + sin_loss)\n",
    "    #loss = 10000*(sin_loss**2)\n",
    "    return loss"
   ]
  },
  {
   "cell_type": "code",
   "execution_count": 1,
   "id": "20ea2bc6-1777-4b35-9938-728e3c1a504e",
   "metadata": {},
   "outputs": [
    {
     "name": "stderr",
     "output_type": "stream",
     "text": [
      "<>:11: SyntaxWarning: 'int' object is not callable; perhaps you missed a comma?\n",
      "<>:11: SyntaxWarning: 'int' object is not callable; perhaps you missed a comma?\n",
      "/tmp/ipykernel_1212239/2735097033.py:11: SyntaxWarning: 'int' object is not callable; perhaps you missed a comma?\n",
      "  loss = 10000(cos_loss + sin_loss)\n"
     ]
    }
   ],
   "source": [
    "def cossin2_loss(y_actual, y_predicted):\n",
    "    # convert degree to radian\n",
    "    print(y_actual.shape)\n",
    "    actual_rad = y_actual*np.pi/180\n",
    "    predicted_rad = y_predicted*np.pi/180\n",
    "\n",
    "    # relative difference loss\n",
    "    diff_loss = (((y_actual-y_predicted) + 180) % 380 - 180)**2\n",
    "    \n",
    "    # the cosine and sine loss\n",
    "    #cos_loss = (1 - tf.math.cos(actual_rad - predicted_rad))**2\n",
    "    #sin_loss = (tf.math.sin(actual_rad - predicted_rad))**2\n",
    "    cos_loss = 1 - tf.math.reduce_mean(tf.math.square(tf.math.cos(actual_rad - predicted_rad)))\n",
    "    sin_loss = tf.math.reduce_mean(tf.math.square(tf.math.sin(actual_rad - predicted_rad)))\n",
    "    #sin_loss = tf.math.sin(actual_rad - predicted_rad)\n",
    "    \n",
    "    # loss \n",
    "    loss = 10000*(cos_loss + sin_loss) + diff_loss\n",
    "    #loss = 10000*(sin_loss**2)\n",
    "    return loss"
   ]
  },
  {
   "cell_type": "code",
   "execution_count": 1,
   "id": "580de521-8a3c-49b0-b036-0d3031e188b9",
   "metadata": {},
   "outputs": [],
   "source": [
    "def cos_loss(y_actual, y_predicted):\n",
    "    # convert degree to radian\n",
    "    actual_rad = y_actual*np.pi/180\n",
    "    predicted_rad = y_predicted*np.pi/180\n",
    "    \n",
    "    #diff_loss = (((y_actual-y_predicted) + 180) % 380 - 180)**2\n",
    "    \n",
    "    # the cosine loss\n",
    "    loss = (1 - tf.math.cos(actual_rad-predicted_rad))**2\n",
    "    return loss# + diff_loss"
   ]
  },
  {
   "cell_type": "code",
   "execution_count": 55,
   "id": "2c5ee613-4ade-44d6-bc67-ae5970eb6c4c",
   "metadata": {},
   "outputs": [],
   "source": [
    "def selector_loss(y_actual, y_predicted):\n",
    "    # Select the minimum angle to deal with wrap around problem\n",
    "    loss = tf.math.minimum(360-tf.math.abs(y_predicted-y_actual), \\\n",
    "                           tf.math.abs(y_predicted-y_actual))\n",
    "    return loss"
   ]
  },
  {
   "cell_type": "code",
   "execution_count": 3,
   "id": "7ba9e580-03e7-4819-bdf9-1c05e6fcfb32",
   "metadata": {},
   "outputs": [],
   "source": [
    "def training_evaluation(list_channels, inputs, labels, he_initializer=True, loss ='mse', floormod=True, epochs = 50, plot = False, save_fig = False):\n",
    "    models = []\n",
    "    losses = []\n",
    "    evaluates = []\n",
    "    for channels in list_channels:\n",
    "        dataset = DataSetPacker(inputs, None, labels, channels)\n",
    "        train_dataset, val_dataset, test_dataset = dataset.split(shuffle=False)\n",
    "        model = MyModel(np.shape(channels), he_initializer, floormod=floormod)\n",
    "        match loss:\n",
    "            case 'mse':\n",
    "                model.compile(optimizer='adam', loss='mse', metrics=['mse','mae'])\n",
    "            case 'cossin':\n",
    "                model.compile(optimizer='adam', loss=cossin_loss, metrics=['mse','mae'])\n",
    "            case 'cossin2':\n",
    "                model.compile(optimizer='adam', loss=cossin2_loss, metrics=['mse','mae'])\n",
    "            case 'cos':\n",
    "                model.compile(optimizer='adam', loss=cos_loss, metrics=['mse','mae'])\n",
    "            case 'selector':\n",
    "                model.compile(optimizer='adam', loss=selector_loss, metrics=['mse','mae'])\n",
    "            case 'minipinn':\n",
    "                model.compile(optimizer='adam', loss=minipinn_loss, metrics=['mse','mae'])\n",
    "        #model.compile(optimizer='adam', loss=cossin_loss, metrics=['mse','mae'])\n",
    "        l = model.fit(train_dataset.batch(32), epochs=epochs, validation_data = val_dataset.batch(32), verbose=False)\n",
    "        eva = EvaluateModel(model, channels, test_dataset)\n",
    "        eva.evaluate(verbose=True)\n",
    "        #eva = EvaluateModel.evaluate(model, test_dataset, False)\n",
    "        if plot:\n",
    "            if save_fig:\n",
    "                eva.plot_training(l, save_dir = 'plot/history/')\n",
    "                eva.plot_evaluation(save_dir = 'plot/evaluation/')\n",
    "            else:\n",
    "                eva.plot_training(l)\n",
    "                eva.plot_evaluation()\n",
    "        models.append(model)\n",
    "        losses.append(l)\n",
    "        evaluates.append(eva)\n",
    "    return models, evaluates, l\n",
    "    "
   ]
  }
 ],
 "metadata": {
  "kernelspec": {
   "display_name": "Python 3 (ipykernel)",
   "language": "python",
   "name": "python3"
  },
  "language_info": {
   "codemirror_mode": {
    "name": "ipython",
    "version": 3
   },
   "file_extension": ".py",
   "mimetype": "text/x-python",
   "name": "python",
   "nbconvert_exporter": "python",
   "pygments_lexer": "ipython3",
   "version": "3.10.9"
  }
 },
 "nbformat": 4,
 "nbformat_minor": 5
}
